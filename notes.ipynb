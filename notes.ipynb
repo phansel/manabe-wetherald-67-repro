{
 "cells": [
  {
   "cell_type": "markdown",
   "id": "26ff0d59-9d4c-4363-a7e7-aa5348810b57",
   "metadata": {},
   "source": [
    "# Notes on Manabe/Wetherald 1967"
   ]
  },
  {
   "cell_type": "markdown",
   "id": "0d8effd0-323a-4426-bb51-89dcf3e296f7",
   "metadata": {},
   "source": [
    "## Introduction\n",
    "\n",
    "- It's a follow up study\n",
    "- Preceded by papers:\n",
    "   - in 1961 (Manabe & Möller): radiative convective equilibrium?\n",
    "   - 1964 (Manabe/Strickler): thermal equilibrium of the atmosphere with convective adjustment\n",
    "   - 1965 (Manabe et al): Use computation (numerical integration) to model radiative transfer in the atmosphere including the hydrologic cycle\n",
    "      - Used a climatological distribution of absolute humidity as approximation\n",
    "- Next step (this paper): numerically solve the fully coupled radiative transfer and hydrological cycle elements.\n",
    "- But before doing so, compute a few radiative convective equilibria with fixed relative humidity to answer:\n",
    "  1) How fast does the atmosphere equilibriate when RH is realistic but time-invariant?\n",
    "  2) How do optical/radiative variables affect the atmosphere's equilibrium temperature under realistic but static RH conditions?\n",
    "  3) From the atmosphere temperature calculated in 1) and 2), what's the surface equilibrium temp?\n",
    "- Use those answers to sanity check more complex models\n",
    "\n",
    "- Möller 1963 discussed CO2 content vs. magnitude of LWIR at earth's surface relating to equilibrium temperature\n",
    "  - Relative vs. absolute humidity confusion\n",
    "  - Similar order-of-magnitude dependence of equilibrium temperature on CO2 content vs papers from the past 15 years\n",
    "  - \"We should probably re-evaluate\"\n"
   ]
  },
  {
   "cell_type": "code",
   "execution_count": null,
   "id": "68831769-47b0-4def-af97-25dd4e84e4f8",
   "metadata": {},
   "outputs": [],
   "source": []
  }
 ],
 "metadata": {
  "kernelspec": {
   "display_name": "Python 3 (ipykernel)",
   "language": "python",
   "name": "python3"
  },
  "language_info": {
   "codemirror_mode": {
    "name": "ipython",
    "version": 3
   },
   "file_extension": ".py",
   "mimetype": "text/x-python",
   "name": "python",
   "nbconvert_exporter": "python",
   "pygments_lexer": "ipython3",
   "version": "3.12.7"
  }
 },
 "nbformat": 4,
 "nbformat_minor": 5
}
