{
 "cells": [
  {
   "cell_type": "markdown",
   "id": "26ff0d59-9d4c-4363-a7e7-aa5348810b57",
   "metadata": {},
   "source": [
    "# Notes on Manabe/Wetherald 1967"
   ]
  },
  {
   "cell_type": "markdown",
   "id": "0d8effd0-323a-4426-bb51-89dcf3e296f7",
   "metadata": {},
   "source": [
    "## 1. Introduction\n",
    "\n",
    "- It's a follow up study\n",
    "- Preceded by papers:\n",
    "   - in 1961 (Manabe & Möller): radiative convective equilibrium?\n",
    "   - 1964 (Manabe/Strickler): thermal equilibrium of the atmosphere with convective adjustment\n",
    "   - 1965 (Manabe et al): Use computation (numerical integration) to model radiative transfer in the atmosphere including the hydrologic cycle\n",
    "      - Used a climatological distribution of absolute humidity as approximation\n",
    "- Next step (this paper): numerically solve the fully coupled radiative transfer and hydrological cycle elements.\n",
    "- But before doing so, compute a few radiative convective equilibria with fixed relative humidity to answer:\n",
    "  1) How fast does the atmosphere equilibriate when RH is realistic but time-invariant?\n",
    "  2) How do optical/radiative variables affect the atmosphere's equilibrium temperature under realistic but static RH conditions?\n",
    "  3) From the atmosphere temperature calculated in 1) and 2), what's the surface equilibrium temp?\n",
    "- Use those answers to sanity check more complex models\n",
    "\n",
    "- Möller 1963 discussed CO2 content vs. magnitude of LWIR at earth's surface relating to equilibrium temperature\n",
    "  - Relative vs. absolute humidity confusion\n",
    "  - Similar order-of-magnitude dependence of equilibrium temperature on CO2 content vs papers from the past 15 years\n",
    "  - \"We should probably re-evaluate\"\n"
   ]
  },
  {
   "cell_type": "markdown",
   "id": "cd13182f-84df-4d1d-9a3b-b80fa5f512cf",
   "metadata": {},
   "source": [
    "### Quick terminology check\n",
    "What is relative vs absolute humidity?\n",
    "- Absolute humidity: grams H2O per m^3\n",
    "- Relative humidity (RH): density of vapor (not suspended droplets) in the air as a percentage of the saturation vapor pressure, determined by Clausius-Clapeyron equation (or similar)"
   ]
  },
  {
   "cell_type": "markdown",
   "id": "9311e47a-6331-4a81-b1e1-83d241bd379e",
   "metadata": {},
   "source": [
    "## 2. Radiative convective equilibrium\n",
    "\n",
    "This is a long section, stretches across 5 pages.\n",
    "\n",
    "Setting up the T&Cs of the model at equilibrium:\n",
    "\n",
    "  - net incoming solar and outgoing LWIR energy are equal where the atmosphere ends \n",
    "  - No temperature discontinuities are allowed\n",
    "  - Critical lapse rate: 6.5C/km, above it convection/eddies will crush it back to 6.5C/km, below it radiative equilibrium is satisfied\n",
    "  - Heat capacity of Earth's surface = 0 (model is simplified, ignores oceans)\n",
    "  - New for this paper: RH in the atmosphere is some given vertical distribution (maybe compiled from radiosonde data?)\n",
    "\n",
    "Some notes\n",
    "- Radiation balance defines when we reach equilibrium, otherwise temperature would change\n",
    "- What is lapse rate? Change in atmospheric temperature with altitude\n",
    "- #2: discontinuities imply either free energy that should dissipate, not good for a numerical simulation, or a solid insulating barrier which doesn't exist\n",
    "\n",
    "\n",
    "Numerical formulation is as an initial value problem that they let asymptote to some equilibrium (see Appendix 1)\n",
    "- \"Marching computation\": Figure 2\n",
    "  - compute mixing ratio of water vapor r(time), (why does the water vapor mixing ratio matter?)\n",
    "    - `r = 0.622*h*e_s(T) / (p - h*e_s(T))`\n",
    "  - compute mean emissivity and absorptivity,\n",
    "  - compute temperature change due to blackbody radiation,\n",
    "  - timestep: compute next temperature from last temperature + temperature change from BB radiation,\n",
    "  - update convective effects (?),\n",
    "  - loop\n",
    "- e_s(time) is saturation vapor pressure of water vapor as a function of temperature, h = relative humidity\n",
    "- I is the \"indexing of the finite differences in the vertical direction\"\n",
    "  - Seems like vertical axis is modeled in discrete altitude blocks\n",
    "\n",
    "\n",
    "TODO"
   ]
  },
  {
   "cell_type": "code",
   "execution_count": null,
   "id": "fb896f9a-640c-4536-a82e-f6b098f0f937",
   "metadata": {},
   "outputs": [],
   "source": []
  }
 ],
 "metadata": {
  "kernelspec": {
   "display_name": "Python 3 (ipykernel)",
   "language": "python",
   "name": "python3"
  },
  "language_info": {
   "codemirror_mode": {
    "name": "ipython",
    "version": 3
   },
   "file_extension": ".py",
   "mimetype": "text/x-python",
   "name": "python",
   "nbconvert_exporter": "python",
   "pygments_lexer": "ipython3",
   "version": "3.12.7"
  }
 },
 "nbformat": 4,
 "nbformat_minor": 5
}
