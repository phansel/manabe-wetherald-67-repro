{
 "cells": [
  {
   "cell_type": "markdown",
   "id": "26ff0d59-9d4c-4363-a7e7-aa5348810b57",
   "metadata": {},
   "source": [
    "# Notes on Manabe/Wetherald 1967\n",
    "## Thermal Equilibrium of the Atmosphere with a Given Distribution of Relative Humidity\n"
   ]
  },
  {
   "cell_type": "markdown",
   "id": "0d8effd0-323a-4426-bb51-89dcf3e296f7",
   "metadata": {},
   "source": [
    "## 1. Introduction\n",
    "\n",
    "- It's a follow up study\n",
    "- Preceded by papers:\n",
    "   - [1964 Manabe/Strickler](https://www.gfdl.noaa.gov/bibliography/related_files/sm6401.pdf): thermal equilibrium of the atmosphere with convective adjustment\n",
    "      - Humidity correction factor was a given vertical distribution of absolute humidity, not relative, not as a function of temperature\n",
    "   - [1961 Manabe & Möller](https://journals.ametsoc.org/view/journals/mwre/89/12/1520-0493_1961_089_0503_otreah_2_0_co_2.xml): radiative convective equilibrium\n",
    "      - mentions this [1956 paper by Phillips](https://empslocal.ex.ac.uk/people/staff/gv219/classics.d/Phillips56.pdf) modeling energy flows numerically assuming a heat source near the equator and heat sink near the poles.\n",
    "   - [1965 Manabe et al](https://journals.ametsoc.org/view/journals/mwre/93/12/1520-0493_1965_093_0769_scoagc_2_3_co_2.xml): Use computation (numerical integration) to model radiative transfer in the atmosphere including the hydrologic cycle\n",
    "      - Used a climatological distribution of absolute humidity as approximation\n",
    "    \n",
    "- Why change the model from absolute to RH?\n",
    "  - Absolute humidity is highly coupled to temperature\n",
    "  - Average RH latitude-height distributions appear similar in winter and summer, whereas AH equivalents do not\n",
    "    - They don't provide a plot for the latter\n",
    "  - Maybe you can assume a given (fixed) vertical distribution of RH since it doesn't change much seasonally\n",
    "  - Removing an unknown saves effort for parameters that are dynamic & saves computation cycles\n",
    "  - If RH distribution is static, absolute humidity is a simple function of temperature (for a fixed altitude+latitude)\n",
    "  - If atmospheric temperatures are higher, then the absolute humidity at any given altitude is higher\n",
    "  - Long-wave infrared (LWIR) emissions to space mostly happen at the altitude surface where there isn't much more LWIR-absorbent substance (e.g. humidity) at a higher altitude to absorb outgoing photons and re-emit them downward\n",
    "    - Higher absolute humidity at all altitudes -> effective altitude of outbound LWIR emission gets higher\n",
    "      - Higher altitude => larger surface area of LWIR emission, A = 4 * pi * r^2\n",
    "      - _If the surface area grows but the outgoing LWIR power is fixed, power density (W/m2) decreases_\n",
    "    - What are the effects on the convective equilibrium if this occurs?\n",
    "      \n",
    "- Next step (this paper): numerically solve the fully coupled radiative transfer and hydrological cycle elements.\n",
    "- But before doing so, compute a few radiative convective equilibria with fixed relative humidity to answer:\n",
    "  1) How fast does the atmosphere equilibriate when RH is realistic but time-invariant?\n",
    "  2) How do optical/radiative variables affect the atmosphere's equilibrium temperature under realistic but static RH conditions?\n",
    "  3) From the atmosphere temperature calculated in 1) and 2), what's the surface equilibrium temp?\n",
    "- Use those answers to sanity check more complex models\n",
    "\n",
    "- Möller 1963 discussed CO2 content vs. magnitude of LWIR at earth's surface relating to equilibrium temperature\n",
    "  - Relative vs. absolute humidity confusion\n",
    "  - Similar order-of-magnitude dependence of equilibrium temperature on CO2 content vs papers from the past 15 years\n",
    "  - \"We should probably re-evaluate\"\n"
   ]
  },
  {
   "cell_type": "markdown",
   "id": "cd13182f-84df-4d1d-9a3b-b80fa5f512cf",
   "metadata": {},
   "source": [
    "### Quick terminology check\n",
    "What is relative vs absolute humidity?\n",
    "- Absolute aka specific humidity: grams H2O vapor per m^3, not including water droplets\n",
    "- Relative humidity (RH): density of vapor (not suspended droplets) in the air as a percentage of the saturation vapor pressure, determined by Clausius-Clapeyron equation (or similar)"
   ]
  },
  {
   "cell_type": "markdown",
   "id": "9311e47a-6331-4a81-b1e1-83d241bd379e",
   "metadata": {},
   "source": [
    "## 2. Radiative convective equilibrium\n",
    "\n",
    "This is a long section, stretches across 5 pages.\n",
    "\n",
    "Setting up the T&Cs of the model at equilibrium:\n",
    "\n",
    "  - net incoming solar and outgoing LWIR energy are equal where the atmosphere ends \n",
    "  - No temperature discontinuities are allowed\n",
    "  - Critical lapse rate: 6.5C/km, above it convection/eddies will crush it back to 6.5C/km, below it radiative equilibrium is satisfied\n",
    "  - Heat capacity of Earth's surface = 0 (model is simplified, ignores oceans)\n",
    "  - New for this paper: RH in the atmosphere is some given vertical distribution (maybe compiled from radiosonde data?)\n",
    "\n",
    "Some notes\n",
    "- Radiation balance defines when we reach equilibrium, otherwise temperature would change\n",
    "- What is lapse rate? Change in atmospheric temperature with altitude\n",
    "- #2: discontinuities imply either free energy that should dissipate, not good for a numerical simulation, or a solid insulating barrier which doesn't exist\n",
    "\n",
    "\n",
    "Numerical formulation is as an initial value problem that they let asymptote to some equilibrium (see Appendix 1)\n",
    "- \"Marching computation\": Figure 2\n",
    "  - compute mixing ratio of water vapor r(time), (why does the water vapor mixing ratio matter?)\n",
    "    - `r = 0.622*h*e_s(T) / (p - h*e_s(T))`\n",
    "  - compute mean emissivity and absorptivity,\n",
    "  - compute temperature change due to blackbody radiation,\n",
    "  - timestep: compute next temperature from last temperature + temperature change from BB radiation,\n",
    "  - update convective effects (?),\n",
    "  - loop\n",
    "- e_s(time) is saturation vapor pressure of water vapor as a function of temperature, h = relative humidity\n",
    "- I is the \"indexing of the finite differences in the vertical direction\"\n",
    "  - Seems like vertical axis is modeled in discrete altitude blocks"
   ]
  },
  {
   "cell_type": "code",
   "execution_count": 2,
   "id": "b005430e-5356-4728-a7ca-85d106b6a23b",
   "metadata": {},
   "outputs": [],
   "source": [
    "# Plotting the mixing ratio as a function of e_s\n",
    "# %pip install matplotlib mlx\n",
    "import matplotlib.pyplot as plt\n",
    "import mlx.core as mx\n",
    "p = 1000 # assume some static pressure\n",
    "e_s = mx.arange(100) + 1 # saturation pressure is some value between 1-101 (arb units)\n",
    "h = (mx.arange(100)/100) # relative humidity is 0.0 to 1.0\n",
    "r = mx.outer(0.622*e_s / (p - h*e_s), h)\n",
    "\n",
    "#fig, ax = plt.subplots()\n",
    "#plt.imshow(r)\n",
    "#cb = plt.colorbar()\n",
    "#plt.xlabel(\"h?\")\n",
    "#plt.ylabel(\"e_s?\")\n",
    "# r = 0.622*h*e_s(T) / (p - h*e_s(T))\n"
   ]
  },
  {
   "cell_type": "markdown",
   "id": "fb5c6355-755f-47d0-b314-74b87edc1997",
   "metadata": {},
   "source": [
    "## 2. Radiative convective equilibrium (continued)\n",
    "- Simplification from absolute -> relative humidity means absolute humidity is essentially directly computable from temperature if the RH distribution is fixed and known.\n",
    "- Heat capacity of moist air is needed to convert RH to AH\n",
    "  - `C'_p = C_p[1 + (L/C_p)*pd_wrt_T( (0.622*he_s(T)) / (p - he_s(T)) )]`\n",
    "  - L is latent heat of evaporation\n",
    "  - C_p is specific heat of air under constant pressure\n",
    "  - Term in brackets after `1 +` is due to 'change of latent energy of the air'\n",
    "- Other computations are copied directly from Manabe/Strickler 1964\n",
    "  - LWIR flux, solar radiation depletion (?), mean absorptivity and emissivity\n"
   ]
  },
  {
   "cell_type": "markdown",
   "id": "5eef75d5-7e6e-45c5-87c8-29d0539fdbc5",
   "metadata": {},
   "source": []
  }
 ],
 "metadata": {
  "kernelspec": {
   "display_name": "Python 3 (ipykernel)",
   "language": "python",
   "name": "python3"
  },
  "language_info": {
   "codemirror_mode": {
    "name": "ipython",
    "version": 3
   },
   "file_extension": ".py",
   "mimetype": "text/x-python",
   "name": "python",
   "nbconvert_exporter": "python",
   "pygments_lexer": "ipython3",
   "version": "3.12.7"
  }
 },
 "nbformat": 4,
 "nbformat_minor": 5
}
